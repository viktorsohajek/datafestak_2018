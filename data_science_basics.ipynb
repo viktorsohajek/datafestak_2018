{
 "cells": [
  {
   "cell_type": "markdown",
   "metadata": {},
   "source": [
    "## Notes for us: \n",
    "[MarkDown cheatsheet](https://www.ibm.com/support/knowledgecenter/SSQNUZ_current/com.ibm.icpdata.doc/dsx/markd-jupyter.html)\n",
    "\n",
    "[Kaggle most used datasets](https://www.kaggle.com/datasets?sortBy=votes&group=public&page=1&pageSize=20&size=sizeAll&filetype=fileTypeAll&license=licenseAll)\n",
    "\n",
    "Koukal jsem na datasety a nejvic se mi zatim libi [black friday dataset][1], mohli bychom predikovat utratu zakznika. Nebo [wine dataset][2], kde bychom mohli predikovat cenu za flasku - tam by to ale chtelo jeste projet ty recenze nejakym NLP, abychom z toho dostali nejaky tagy. \n",
    "\n",
    "Delat summary na konci kazdeho speakera.\n",
    "\n",
    "Kodit ucastnici nebudou. \n",
    "\n",
    "[//]: Linky\n",
    "[1]: https://www.kaggle.com/mehdidag/black-friday\n",
    "[2]: https://www.kaggle.com/zynicide/wine-reviews"
   ]
  },
  {
   "cell_type": "markdown",
   "metadata": {},
   "source": [
    "# TODOS:\n",
    "0] Naformatovat readme + nasdilet Kasnickovi atd [@VB 20.11.2018]\n",
    "\n",
    "1] rozdelit, kdo bude co rikat [@all]\n",
    "\n",
    "2] pridat bunky s casomirou [@Hynek]\n",
    "\n",
    "3] rozdistribuovat importy do bunek pred pouzitim [@VB]\n",
    "\n",
    "4] Udelat dummy dataset v data/tree_basic.csv [@VB]\n",
    "\n",
    "5] Vybrakovat DTrees [@Hynek]\n",
    "\n",
    "6] Vybrakovat RForests [@VB]\n",
    "\n",
    "7] Sepsat GBoosting [@VS]\n",
    "\n",
    "8] Resersovat, kdo realne pouzivat AutoML [@Hynek]\n",
    "\n",
    "9] Pridat do Prerequisities jupyter notebook s loadem dat - must have je umet to na svym compu projet [TBD]\n",
    "\n",
    "10] Dodelat to cely [@all]"
   ]
  },
  {
   "cell_type": "markdown",
   "metadata": {},
   "source": [
    "# ------- SPEAKER 1 -------"
   ]
  },
  {
   "cell_type": "markdown",
   "metadata": {},
   "source": [
    "# What is Data Science about?\n",
    "\n",
    "Business: Magic\n",
    "\n",
    "University teacher: Methods' list\n",
    "\n",
    "Data Scientist: handling datasets\n",
    "\n",
    "Us: Technical overview"
   ]
  },
  {
   "cell_type": "markdown",
   "metadata": {},
   "source": [
    "# Why do we make models? What can I predict?\n",
    "\n",
    "Predicting future based on present avaliable data.\n",
    "\n",
    "1] What is on picture?\n",
    "Note: Automation of easy task vs. tumor detection\n",
    "\n",
    "2] What will be the stock price tommorrow?\n",
    "\n",
    "3] How many iphones will I sell if the price is 20% higher then now and it is snowing?\n",
    "\n"
   ]
  },
  {
   "cell_type": "code",
   "execution_count": 1,
   "metadata": {},
   "outputs": [
    {
     "data": {
      "text/html": [
       "<script type=\"text/javascript\">window.PlotlyConfig = {MathJaxConfig: 'local'};</script><script type=\"text/javascript\">if (window.MathJax) {MathJax.Hub.Config({SVG: {font: \"STIX-Web\"}});}</script><script>requirejs.config({paths: { 'plotly': ['https://cdn.plot.ly/plotly-latest.min']},});if(!window._Plotly) {require(['plotly'],function(plotly) {window._Plotly=plotly;});}</script>"
      ],
      "text/vnd.plotly.v1+html": [
       "<script type=\"text/javascript\">window.PlotlyConfig = {MathJaxConfig: 'local'};</script><script type=\"text/javascript\">if (window.MathJax) {MathJax.Hub.Config({SVG: {font: \"STIX-Web\"}});}</script><script>requirejs.config({paths: { 'plotly': ['https://cdn.plot.ly/plotly-latest.min']},});if(!window._Plotly) {require(['plotly'],function(plotly) {window._Plotly=plotly;});}</script>"
      ]
     },
     "metadata": {},
     "output_type": "display_data"
    }
   ],
   "source": [
    "# Import all needed packages\n",
    "import numpy as np\n",
    "import pandas as pd \n",
    "from plotly import __version__\n",
    "from plotly.offline import download_plotlyjs, init_notebook_mode, plot, iplot\n",
    "import plotly.graph_objs as go\n",
    "from sklearn.tree import DecisionTreeRegressor, export_graphviz\n",
    "from sklearn.ensemble import RandomForestRegressor\n",
    "from sklearn.model_selection import train_test_split\n",
    "from sklearn.metrics import mean_squared_error, mean_absolute_error\n",
    "import graphviz\n",
    "init_notebook_mode(connected=True)"
   ]
  },
  {
   "cell_type": "markdown",
   "metadata": {},
   "source": [
    "# Model 0 - Mean, Linear model"
   ]
  },
  {
   "cell_type": "code",
   "execution_count": null,
   "metadata": {},
   "outputs": [],
   "source": [
    "# doziti\n",
    "tree_data_filepath = 'data/tree_basic.csv'\n",
    "tree_data = pd.read_csv(tree_data_filepath, sep = ';')\n",
    "tree_data.head(10)\n",
    "\n",
    "# TODO: motivace pro odhad responsu\n",
    "# Pouzit mean\n",
    "# Pouzit LM\n",
    "\n",
    "# Vysvetlit porovnani modelu - zavest MSE"
   ]
  },
  {
   "cell_type": "markdown",
   "metadata": {},
   "source": [
    "\n",
    "\n",
    "# Model 1 - Decision Trees"
   ]
  },
  {
   "cell_type": "code",
   "execution_count": null,
   "metadata": {},
   "outputs": [],
   "source": [
    "# Vybrakovat viktor_notebook_examples/Decision trees.html\n",
    "\n",
    "# porovnat MSE s LM"
   ]
  },
  {
   "cell_type": "markdown",
   "metadata": {},
   "source": [
    "# End of theory "
   ]
  },
  {
   "cell_type": "markdown",
   "metadata": {},
   "source": [
    "# ------- SPEAKER 2 -------"
   ]
  },
  {
   "cell_type": "markdown",
   "metadata": {},
   "source": [
    "# Dataset + problem to solve introduction \n",
    "Business zadani"
   ]
  },
  {
   "cell_type": "code",
   "execution_count": 3,
   "metadata": {},
   "outputs": [],
   "source": [
    "filepath = 'data/data_file.csv'\n",
    "data_students = pd.read_csv(filepath, sep = ';')\n",
    "# TODO: Print columns, .describe, ...\n",
    "data_students.head(10)"
   ]
  },
  {
   "cell_type": "markdown",
   "metadata": {},
   "source": [
    "# Model 1 - Decision Trees"
   ]
  },
  {
   "cell_type": "code",
   "execution_count": null,
   "metadata": {},
   "outputs": [],
   "source": [
    "# TODO: Fit trees on full competition dataset\n",
    "# print MSE"
   ]
  },
  {
   "cell_type": "markdown",
   "metadata": {},
   "source": [
    "# Model selection - Train-test data split\n",
    "How do I know, the model is good? Isn't it overfitted?\n",
    "\n",
    "TODO: introduce why to split data into train-test"
   ]
  },
  {
   "cell_type": "markdown",
   "metadata": {},
   "source": [
    "# Model 2 - Random Forests"
   ]
  },
  {
   "cell_type": "code",
   "execution_count": null,
   "metadata": {},
   "outputs": [],
   "source": [
    "# TODO: vybrakovat viktor_notebook_examples/Random forest.html"
   ]
  },
  {
   "cell_type": "markdown",
   "metadata": {},
   "source": [
    "# ------- SPEAKER 3 -------"
   ]
  },
  {
   "cell_type": "markdown",
   "metadata": {},
   "source": [
    "# Model 3 - Gradient Boosting"
   ]
  },
  {
   "cell_type": "code",
   "execution_count": null,
   "metadata": {},
   "outputs": [],
   "source": [
    "# TODO: sepsat GB\n",
    "# TODO: Feture importance"
   ]
  },
  {
   "cell_type": "markdown",
   "metadata": {},
   "source": [
    "# ------- Add-ons pokud zbyde cas -------"
   ]
  },
  {
   "cell_type": "markdown",
   "metadata": {},
   "source": [
    "# Produktizace\n",
    "Kam model zasadit, aby odpovidal na business zadani?"
   ]
  },
  {
   "cell_type": "markdown",
   "metadata": {},
   "source": [
    "# H2O AutoML\n",
    "Viktor to chce"
   ]
  },
  {
   "cell_type": "markdown",
   "metadata": {},
   "source": [
    "\n",
    "\n",
    "# Model 4 - Neural Networks (???)\n",
    "Nejspis nestihneme. Pokud bude cas, tak muzeme ukazat pouze aplikaci na nase data. Predat odkaz.\n",
    "\n"
   ]
  },
  {
   "cell_type": "markdown",
   "metadata": {},
   "source": [
    "# /------- Add-ons pokud zbyde cas -------"
   ]
  },
  {
   "cell_type": "markdown",
   "metadata": {},
   "source": [
    "# Common catches\n",
    "\n",
    "The DS work is 80% data handling and 20% modeling. \n",
    "\n",
    "Beware of strongly reponse-correlated predictors (often, you do not know them in advance).\n",
    "\n",
    "Think about applyability of your model to production environment first."
   ]
  },
  {
   "cell_type": "markdown",
   "metadata": {},
   "source": [
    "# Further reedings & Sources\n",
    "\n",
    "[Kaggle MarkDown tutorial](https://www.kaggle.com/chrisbow/formatting-notebooks-with-markdown-tutorial)\n",
    "\n",
    "[scikit-learn Python package](https://scikit-learn.org/stable/)\n",
    "\n",
    "[Kaggle Learn tutorials](https://www.kaggle.com/learn/overview)"
   ]
  }
 ],
 "metadata": {
  "kernelspec": {
   "display_name": "Python 3",
   "language": "python",
   "name": "python3"
  },
  "language_info": {
   "codemirror_mode": {
    "name": "ipython",
    "version": 3
   },
   "file_extension": ".py",
   "mimetype": "text/x-python",
   "name": "python",
   "nbconvert_exporter": "python",
   "pygments_lexer": "ipython3",
   "version": "3.6.4"
  }
 },
 "nbformat": 4,
 "nbformat_minor": 2
}
